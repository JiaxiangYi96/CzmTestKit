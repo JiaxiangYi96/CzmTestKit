{
 "cells": [
  {
   "cell_type": "markdown",
   "metadata": {},
   "source": [
    "# Visualizing Internal Variables Printed From The User Element Subroutine \n",
    "\n",
    "This notebook presents the steps to use the `czmtestkit` package to read and visualize internal variables from the user element subroutine printed to the `.msg` file while running the simulation.\n",
    "Inorder to use this functionality of the package, print the variable `Var` of interest to the `.msg` file using the following command in the fortran code of the subroutine:\n",
    "\n",
    "```fortran\n",
    "        WRITE(7,*) 'VarKey = ', Var\n",
    "```\n",
    "\n",
    "Run `ADCB_UEL.ipynb` to generate sample files.\n",
    "Read the `.msg` file and find the line numbers in the `.msg` file corresponding to the stable increments using `czmtestkit.py_modules.find_convergedIncrements`."
   ]
  },
  {
   "cell_type": "code",
   "execution_count": 6,
   "metadata": {},
   "outputs": [
    {
     "name": "stdout",
     "output_type": "stream",
     "text": [
      "Last line numbers from converged increments: \n",
      " [13275, 19849, 25333, 32927, 43743, 75658, 95899, 103400, 122627, 191886, 213140, 224839, 865040, 1506327, 1537206, 1545720, 1547865, 1555295, 1557440] \n",
      "\n",
      "Last line numbers from the last increment before converged increments: \n",
      " [12147, 18734, 24207, 31801, 40518, 74557, 94799, 102300, 121527, 188687, 212040, 223739, 862883, 1505226, 1534007, 1544620, 1544620, 1552094, 1552094] \n",
      "\n",
      "Step times of converged increments: \n",
      " ['0.100', '0.200', '0.300', '0.400', '0.500', '0.600', '0.700', '0.800', '0.900', '0.925', '0.950', '0.975', '0.981', '0.984', '0.987', '0.991', '0.994', '0.999', '1.00'] \n",
      "\n"
     ]
    }
   ],
   "source": [
    "from czmtestkit.py_modules import find_convergedIncrements\n",
    "File= 'ADCB_UEL\\point_05\\ADCB_UEL.msg'\n",
    "converged_time,  last_unconv_it, converged_it = find_convergedIncrements(File)\n",
    "print('Last line numbers from converged increments:', '\\n',converged_it, '\\n')\n",
    "print('Last line numbers from the last increment before converged increments:', '\\n', last_unconv_it, '\\n')\n",
    "print('Step times of converged increments:', '\\n',converged_time, '\\n')"
   ]
  },
  {
   "cell_type": "markdown",
   "metadata": {},
   "source": [
    "Initialize an `increment` class instance for every stable increment and assign the limiting line numbers corresponding to the increment. Line number corresponding to the last line from the increment before a converged increment is the start of the increment and the line number corresponding to the last of converged increment is the end of the increment.\n",
    "\n",
    "Then, for each stable increment, find the line numbers where the variable `Var` is printed using the key word `VarKey` and the `find_lineNumbers` method.\n",
    "```python\n",
    "    increment.findlineNumbers('VarKey', p, (m,n))\n",
    "```\n",
    "where p is the number of lines for each entry of the variable `Var` and `m`,`n` are the number of rows and columns.\n",
    "For example, the variable `Var` is printed to the `.msg` file as \n",
    "```\n",
    "VarKey = 1.000000 2.000000 3.000000\n",
    " 4.000000 5.000000 6.000000\n",
    "```\n",
    "Since the entry extends to two lines the p is 2. Further, if the variable `Var` has two rows and three columns with m = 2 and n = 3. \n",
    "\n",
    "`find_lineNumbers` method creates an instance of the `data` class and stores the corresponding line numbers as instance attributes each time the `Var` is printed within the limits of the stable increment. A list of all the `data` class instances created is stored as an attribute of the `increment` class instance.\n",
    "\n",
    "Further, `find_data` method fetches the data between the line numbers fetched by `find_lineNumbers` method and converts it to matrix of the shape `m,n` for all the `data` class instances in the list. For example above entry is converted to\n",
    "$$\\begin{bmatrix}\n",
    "1.000000 & 3.000000 & 5.000000\\\\\n",
    "2.000000 & 4.000000 & 6.000000\n",
    "\\end{bmatrix}$$\n",
    "\n",
    "The matix is assigned to the `value` attribute of the corresponding `data` class instance. Finally, `find_data` creates `data` attribute for the `increment` class instance which is a dictionary with the `VarKey` as keys and the lists of corresponding `data` class instances as values."
   ]
  },
  {
   "cell_type": "code",
   "execution_count": 2,
   "metadata": {},
   "outputs": [],
   "source": [
    "from czmtestkit.py_modules import increment\n",
    "entries = []\n",
    "for j in range(len(converged_it)):\n",
    "    ent = increment()\n",
    "    ent.fileName = File\n",
    "    ent.step_time = converged_time[j]\n",
    "    ent.start = last_unconv_it[j]\n",
    "    ent.stop = converged_it[j]\n",
    "    entries.append(ent)\n",
    "    ent.find_lineNumbers('IP',1,(2,1))\n",
    "    ent.find_lineNumbers('GIP',1,(3,1))\n",
    "    ent.find_lineNumbers('TAU',1,(3,1))\n",
    "    ent.find_lineNumbers('DTAU',3,(3,3))\n",
    "    ent.find_lineNumbers('DG',24,(3,24))\n",
    "    ent.find_lineNumbers('DR',24,(3,24))\n",
    "    ent.find_data()"
   ]
  },
  {
   "cell_type": "markdown",
   "metadata": {},
   "source": [
    "Finally, edit the `setup_frame` and `frame_plot` methods of the `frame_iterator` class to present variables of interest as colormaps and create a movie of frames from all the stable increments. Use the `setup_frame` method to setup the plot area, titles, and axes, and `frame_plot` method to plot the increments. \n",
    "\n",
    "**Note**: Do not change the input parameters of the setup_frame and frame_plot methods.\n"
   ]
  },
  {
   "cell_type": "code",
   "execution_count": 3,
   "metadata": {},
   "outputs": [
    {
     "data": {
      "text/html": [
       "<video src=\"h_u=8.mp4\" controls  >\n",
       "      Your browser does not support the <code>video</code> element.\n",
       "    </video>"
      ],
      "text/plain": [
       "<IPython.core.display.Video object>"
      ]
     },
     "execution_count": 3,
     "metadata": {},
     "output_type": "execute_result"
    }
   ],
   "source": [
    "import numpy as np\n",
    "from IPython import display\n",
    "from matplotlib import pyplot as plt\n",
    "from matplotlib import animation as animation\n",
    "%matplotlib inline\n",
    "\n",
    "class frame_iterator:\n",
    "    def __init__(self, array, fileName):\n",
    "        self.mainArray = array\n",
    "        self.itr = len(array)\n",
    "        self.name = fileName\n",
    "\n",
    "    def animate(self): # Animator\n",
    "        self.setup_frame()\n",
    "        Writer = animation.FFMpegWriter\n",
    "        writer = Writer(fps=1, metadata=dict(artist='Nanditha Mudunuru'), bitrate=1800)\n",
    "        \n",
    "        anim = animation.FuncAnimation(self.fig, self.frame_plot, frames=self.itr, blit=False, repeat=True)\n",
    "        anim.save(self.name+'.mp4', writer=writer)\n",
    "\n",
    "    def setup_frame(self): # Main frame\n",
    "        fig = plt.figure(figsize=(12,15))\n",
    "        self.fig = fig\n",
    "\n",
    "        # dR color map\n",
    "        ax1 = fig.add_subplot(121)\n",
    "        self.ax1 = ax1\n",
    "        ax1.set_title('dR', fontsize=20)\n",
    "        self.im1 = ax1.imshow(np.zeros([24,3]), cmap='seismic')\n",
    "        self.fig.colorbar(self.im1, ax=self.ax1, orientation='vertical')\n",
    "\n",
    "        # Major ticks and labels\n",
    "        ax1.set_yticks(np.arange(0, 24, 1))\n",
    "        ax1.set_xticks(np.arange(0, 3, 1))\n",
    "        ax1.set_yticklabels(np.arange(1, 25, 1))\n",
    "        ax1.set_xticklabels(np.arange(1, 4, 1))\n",
    "\n",
    "        # Minor ticks and grid\n",
    "        ax1.set_yticks(np.arange(-.5, 24, 1), minor=True)\n",
    "        ax1.set_xticks(np.arange(-.5, 3, 1), minor=True)\n",
    "        ax1.grid(which='minor', color='black', linewidth=2)\n",
    "\n",
    "        # tau color map\n",
    "        ax2 = fig.add_subplot(222)\n",
    "        self.ax2 = ax2\n",
    "        ax2.set_title('\\u03C4', fontsize=20)\n",
    "        self.im2 = ax2.imshow(np.zeros([3,1]), cmap='seismic')\n",
    "        self.fig.colorbar(self.im2, ax=self.ax2, orientation='vertical')\n",
    "\n",
    "        # Major ticks and labels\n",
    "        ax2.set_xticks(np.arange(0, 1, 1))\n",
    "        ax2.set_yticks(np.arange(0, 3, 1))\n",
    "        ax2.set_xticklabels(np.arange(1, 2, 1))\n",
    "        ax2.set_yticklabels(np.arange(1, 4, 1))\n",
    "\n",
    "        # Minor ticks and grid\n",
    "        ax2.set_xticks(np.arange(-.5, 1, 1), minor=True)\n",
    "        ax2.set_yticks(np.arange(-.5, 3, 1), minor=True)\n",
    "        ax2.grid(which='minor', color='black', linewidth=2)\n",
    "\n",
    "        # GIP color map\n",
    "        ax3 = fig.add_subplot(224)\n",
    "        self.ax3 = ax3\n",
    "        ax3.set_title(r'$\\Delta(e_i)$', fontsize=20)\n",
    "        self.im3 = ax3.imshow(np.zeros([3,1]), cmap='seismic')\n",
    "        self.fig.colorbar(self.im3, ax=self.ax3, orientation='vertical')\n",
    "\n",
    "        # Major ticks and labels\n",
    "        ax3.set_xticks(np.arange(0, 1, 1))\n",
    "        ax3.set_yticks(np.arange(0, 3, 1))\n",
    "        ax3.set_xticklabels(np.arange(1, 2, 1))\n",
    "        ax3.set_yticklabels(np.arange(1, 4, 1))\n",
    "\n",
    "        # Minor ticks and grid\n",
    "        ax3.set_xticks(np.arange(-.5, 1, 1), minor=True)\n",
    "        ax3.set_yticks(np.arange(-.5, 3, 1), minor=True)\n",
    "        ax3.grid(which='minor', color='black', linewidth=2)\n",
    "\n",
    "        return\n",
    "\n",
    "    def frame_plot(self, i): # Frame update at each stable increment\n",
    "        IP_idx = 0\n",
    "        dr = self.mainArray[i].data['DR'][IP_idx].value.T\n",
    "        tau = self.mainArray[i].data['TAU'][IP_idx].value\n",
    "        gip = self.mainArray[i].data['GIP'][IP_idx].value\n",
    "        time = self.mainArray[i].step_time\n",
    "\n",
    "        self.fig.suptitle('Step Time = {}'.format(time), fontsize=26)\n",
    "        self.im1.set_data(dr)\n",
    "        self.im2.set_data(tau)\n",
    "        self.im3.set_data(gip)\n",
    "        return\n",
    "\n",
    "test = frame_iterator(entries, 'h_u=8')\n",
    "test.animate()\n",
    "plt.close()\n",
    "display.Video(\"h_u=8.mp4\")"
   ]
  },
  {
   "cell_type": "markdown",
   "metadata": {},
   "source": [
    "Or plot individual frames from required increments "
   ]
  },
  {
   "cell_type": "code",
   "execution_count": 5,
   "metadata": {},
   "outputs": [
    {
     "data": {
      "image/png": "[encoded data removed]",
      "text/plain": [
       "<Figure size 864x1080 with 6 Axes>"
      ]
     },
     "metadata": {
      "needs_background": "light"
     },
     "output_type": "display_data"
    }
   ],
   "source": [
    "test.setup_frame()\n",
    "test.frame_plot(0)\n",
    "plt.show()"
   ]
  }
 ],
 "metadata": {
  "interpreter": {
   "hash": "566d32f13ded5a70046453e6a574a86ca3f79259a9233f9eb1c631bc56fadd6e"
  },
  "kernelspec": {
   "display_name": "Python 3.9.1 ('base')",
   "language": "python",
   "name": "python3"
  },
  "language_info": {
   "codemirror_mode": {
    "name": "ipython",
    "version": 3
   },
   "file_extension": ".py",
   "mimetype": "text/x-python",
   "name": "python",
   "nbconvert_exporter": "python",
   "pygments_lexer": "ipython3",
   "version": "3.9.1"
  },
  "orig_nbformat": 4
 },
 "nbformat": 4,
 "nbformat_minor": 2
}
